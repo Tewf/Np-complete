{
  "nbformat": 4,
  "nbformat_minor": 0,
  "metadata": {
    "colab": {
      "provenance": []
    },
    "kernelspec": {
      "name": "python3",
      "display_name": "Python 3"
    },
    "language_info": {
      "name": "python"
    }
  },
  "cells": [
    {
      "cell_type": "code",
      "source": [
        "from sympy import *\n",
        "import sympy as sp\n",
        "from sympy.polys.domains.finitefield import FiniteField"
      ],
      "metadata": {
        "id": "0VmMJ4nfQkj0"
      },
      "execution_count": 1,
      "outputs": []
    },
    {
      "cell_type": "code",
      "source": [
        "#un code pour un échelonnement de gauss en Z2\n",
        "def equal_arrays(array1, array2):\n",
        "  return all(array1[i] == array2[i] for i in range(len(array1)))\n",
        "\n",
        "# Define a function to check if an array is all 0\n",
        "def zero_array(array):\n",
        "  return all(array[i] == 0 for i in range(len(array)))\n",
        "\n",
        "# Define a function to delete repetitive arrays and all 0 arrays in a given matrix\n",
        "def delete_arrays(matrix):\n",
        "  # Get the number of rows and columns\n",
        "  rows = len(matrix)\n",
        "  cols = len(matrix[0])\n",
        "\n",
        "  # Initialize a list to store the indices of the unique and nonzero rows\n",
        "  unique_rows = []\n",
        "\n",
        "  # Loop through the rows\n",
        "  for i in range(rows):\n",
        "    # Assume that the current row is unique and nonzero\n",
        "    unique = True\n",
        "    nonzero = True\n",
        "\n",
        "    # Loop through the unique rows\n",
        "    for j in unique_rows:\n",
        "      # If the current row is equal to any of the unique rows, mark it as not unique\n",
        "      if equal_arrays(matrix[i], matrix[j]):\n",
        "        unique = False\n",
        "        break\n",
        "\n",
        "    # If the current row is unique, check if it is nonzero\n",
        "    if unique:\n",
        "      # If the current row is all 0, mark it as not nonzero\n",
        "      if zero_array(matrix[i]):\n",
        "        nonzero = False\n",
        "\n",
        "    # If the current row is unique and nonzero, add its index to the list\n",
        "    if unique and nonzero:\n",
        "      unique_rows.append(i)\n",
        "\n",
        "  # Create a new matrix with only the unique and nonzero rows\n",
        "  new_matrix = [matrix[i] for i in unique_rows]\n",
        "\n",
        "  # Return the new matrix\n",
        "  return new_matrix"
      ],
      "metadata": {
        "id": "xKL70fhUkL-Q"
      },
      "execution_count": 2,
      "outputs": []
    },
    {
      "cell_type": "code",
      "source": [
        "#la suite du code pour un échelonnement de gauss en Z2\n",
        "# Define a function to perform XOR operation on two rows\n",
        "def xor_rows(row1, row2):\n",
        "  return [row1[i] ^ row2[i] for i in range(len(row1))]\n",
        "\n",
        "# Define a function to swap two rows in a matrix\n",
        "def swap_rows(matrix, i, j):\n",
        "  matrix[i], matrix[j] = matrix[j], matrix[i]\n",
        "\n",
        "# Define a function to perform Gaussian elimination over GF(2) on a matrix\n",
        "def gauss_elim_gf2(matrix):\n",
        "  # Get the number of rows and columns\n",
        "  rows = len(matrix)\n",
        "  cols = len(matrix[0])\n",
        "\n",
        "  # Initialize the row and column indices\n",
        "  r = 0\n",
        "  c = 0\n",
        "\n",
        "  # Loop through the columns\n",
        "  while r < rows and c < cols:\n",
        "    # Find a nonzero element in column c, starting from row r\n",
        "    pivot = -1\n",
        "    for i in range(r, rows):\n",
        "      if matrix[i][c] == 1:\n",
        "        pivot = i\n",
        "        break\n",
        "\n",
        "    # If a nonzero element is found, swap it with row r\n",
        "    if pivot != -1:\n",
        "      swap_rows(matrix, r, pivot)\n",
        "\n",
        "      # Eliminate the coefficients below the pivot\n",
        "      for i in range(r + 1, rows):\n",
        "        if matrix[i][c] == 1:\n",
        "          matrix[i] = xor_rows(matrix[i], matrix[r])\n",
        "\n",
        "      # Increment the row index\n",
        "      r += 1\n",
        "\n",
        "    # Increment the column index\n",
        "    c += 1\n",
        "\n",
        "  # Return the matrix in row echelon form\n",
        "  return matrix\n",
        "y=[[1, 1, 1, 1, 1, 1, 1, 1], [1, 0, 0, 0, 0, 0, 0, 0], [1, 0, 0, 1, 0, 0, 0, 0], [1, 1, 0, 0, 0, 0, 0, 0], [1, 0, 1, 0, 0, 0, 0, 0]]\n",
        "gauss_elim_gf2(y)"
      ],
      "metadata": {
        "id": "BN_oJV7Y4IMI",
        "colab": {
          "base_uri": "https://localhost:8080/"
        },
        "outputId": "c25265b1-792f-4f5e-a6a6-4ab77f910343"
      },
      "execution_count": 3,
      "outputs": [
        {
          "output_type": "execute_result",
          "data": {
            "text/plain": [
              "[[1, 1, 1, 1, 1, 1, 1, 1],\n",
              " [0, 1, 1, 1, 1, 1, 1, 1],\n",
              " [0, 0, 1, 1, 1, 1, 1, 1],\n",
              " [0, 0, 0, 1, 0, 0, 0, 0],\n",
              " [0, 0, 0, 0, 1, 1, 1, 1]]"
            ]
          },
          "metadata": {},
          "execution_count": 3
        }
      ]
    },
    {
      "cell_type": "code",
      "source": [
        "#avoir tout les termes du systeme\n",
        "def get_elements(x):\n",
        "  y=[]\n",
        "  for i in x:\n",
        "    y=list(set(y)|set(i))\n",
        "  return sorted(y, key=lambda x: len(x), reverse=True)"
      ],
      "metadata": {
        "id": "5jZ7E2DOjPUN"
      },
      "execution_count": 4,
      "outputs": []
    },
    {
      "cell_type": "code",
      "source": [
        "def remove_spaces(string):\n",
        "    return string.replace(\" \", \"\")\n",
        "#simplifications des polynomes en Z2\n",
        "def line_reduction(x):\n",
        "  A=\"+p+p+2\"#stabilzer pour eviter les erreurs, si la fonction n'a pas quelques choses a simplifier ou une constante\n",
        "  expr = sp.parse_expr(x+A)\n",
        "  x = (lambda p: sp.Poly(sp.ratsimpmodprime(p, [n**2-n for n in p.free_symbols]), modulus=2))(expr.as_expr())\n",
        "  return [remove_spaces(i) for i in (str((x.args)[0])).split(\"+\")]\n",
        "line_reduction(\"x**10+y-x+2\")"
      ],
      "metadata": {
        "id": "UI1SDjzuTx6y",
        "colab": {
          "base_uri": "https://localhost:8080/"
        },
        "outputId": "c47ed603-d481-4ba8-de21-0831f69cba91"
      },
      "execution_count": 5,
      "outputs": [
        {
          "output_type": "execute_result",
          "data": {
            "text/plain": [
              "['y']"
            ]
          },
          "metadata": {},
          "execution_count": 5
        }
      ]
    },
    {
      "cell_type": "code",
      "source": [
        "def verify(x,y):\n",
        "  for i in x:\n",
        "    if(i==y):\n",
        "      return True\n",
        "  return False\n",
        "'''transform un system en matrice\n",
        "x+x*y=0\n",
        "y+1=0\n",
        "[1,1,0,0]\n",
        "[0,0,1,1]\n",
        "et les variables:[x*y,x,y,1]'''\n",
        "def system_to_matrix(x):\n",
        "  y,s=get_elements(x),[]\n",
        "  for i in x:\n",
        "    x=[]\n",
        "    for j in y:\n",
        "      if(verify(i,j)):\n",
        "        x+=[1]\n",
        "      else:\n",
        "        x+=[0]\n",
        "    s+=[x]\n",
        "  return s,y\n",
        "system_to_matrix([[\"x\",\"x*y\"],[\"y\",\"1\"]])"
      ],
      "metadata": {
        "id": "O8YdS_CGkh8e",
        "colab": {
          "base_uri": "https://localhost:8080/"
        },
        "outputId": "bf18b921-dbe8-4730-a5d9-ca097b27da14"
      },
      "execution_count": 6,
      "outputs": [
        {
          "output_type": "execute_result",
          "data": {
            "text/plain": [
              "([[1, 0, 0, 1], [0, 1, 1, 0]], ['x*y', 'y', '1', 'x'])"
            ]
          },
          "metadata": {},
          "execution_count": 6
        }
      ]
    },
    {
      "cell_type": "code",
      "source": [
        "#detecter si 1=0\n",
        "def error(matrix,y):\n",
        "  i=len(y)-1\n",
        "  while(0<=i and len(y[i])==1):\n",
        "    if(y[i]==\"1\"):\n",
        "      a=[0]*len(y)\n",
        "      a[i]=1\n",
        "      return any(a == list(j) for j in matrix)\n",
        "    i-=1\n",
        "  return False\n",
        "  for i in matrix:\n",
        "    if (i ==([0]*(look_for_the_one(y))+[1]+[0]*(len(y)-1-look_for_the_one(y)))):\n",
        "      return True\n",
        "  return False\n",
        "#des fonctions pour mettres les fonctions principales en accord\n",
        "def row_to_strings(x,y):\n",
        "  z=[]\n",
        "  for i in range(len(y)):\n",
        "    if(x[i]==1):\n",
        "      z+=[y[i]]\n",
        "  return z\n",
        "def row_to_line(x):\n",
        "  s=x[0]\n",
        "  for  i in range(1,len(x)):\n",
        "    s+=\"+\"+x[i]\n",
        "  return s"
      ],
      "metadata": {
        "id": "Jkv3tS_FoKfL"
      },
      "execution_count": 7,
      "outputs": []
    },
    {
      "cell_type": "code",
      "source": [
        "#les cas d'existance d'une solution\n",
        "def case_0(x,y):\n",
        "  s=False\n",
        "  for i in x:\n",
        "    if(i.find(y)!=-1 ):\n",
        "      if(len(i)==len(y)):\n",
        "        s=True\n",
        "      else:\n",
        "        return False\n",
        "  return s\n",
        "def local(x,y):\n",
        "  for i in x:\n",
        "    if(remove_spaces(i)==y):\n",
        "      return True\n",
        "  return False\n",
        "def case_1(x,y):\n",
        "  s=False\n",
        "  for i in x:\n",
        "    if(i==\"1\"):\n",
        "      s=True\n",
        "    elif(not local(i.split(\"*\"),y)):\n",
        "      return False\n",
        "  return s\n",
        "def case_2(sol):\n",
        "  if(sol.find(\"/\")!=-1):\n",
        "    a,b=line_reduction(sol[sol.find(\"/\")+1:]),line_reduction(sol[:sol.find(\"/\")]+\" + 1\")\n",
        "    return a==b\n",
        "  return False\n",
        "def line_solve(x,y):\n",
        "  if(case_0(x,y)):\n",
        "    return str(solve(sympify(row_to_line(x)), sympify(y))[0]),[]\n",
        "  elif(case_1(x,y)):\n",
        "    sol=str(solve(sympify(row_to_line(x)), sympify(y))[0])\n",
        "    return \"1\",[sol[sol.find(\"/\")+1:]+\" + 1\"]\n",
        "  elif(case_2(str(solve(sympify(row_to_line(x)), sympify(y))[0]))):\n",
        "    sol=str(solve(sympify(row_to_line(x)), sympify(y))[0])\n",
        "    return \"0\",[sol[:sol.find(\"/\")]]\n",
        "  else:\n",
        "    #pas de solution\n",
        "    return \"nope\",\"nope\""
      ],
      "metadata": {
        "id": "d5YVw3ixyhL3"
      },
      "execution_count": 8,
      "outputs": []
    },
    {
      "cell_type": "code",
      "source": [
        "#si la variable existe on resoud sinon\n",
        "def existance(x,y):\n",
        "  for i in x:\n",
        "    if(local(i.split(\"*\"),y)):\n",
        "      return True\n",
        "  return False\n",
        "def line_substitution(x,y,z):\n",
        "  a=(sympify(row_to_line(x)))\n",
        "  return str(a.subs(sympify(y),sympify(z)))\n",
        "#touve une solution et substitue dans le systeme\n",
        "def system_solve(x,y,A):\n",
        "  for i in range(len(x)):\n",
        "    for j in y:\n",
        "      if( existance(x[i],j) and (line_solve(x[i],j))[0]!=\"nope\"):\n",
        "        a=x[i]\n",
        "        A[j]=(line_solve(a,j))[0]\n",
        "        x.pop(i)\n",
        "        x=[line_substitution(k,j,(line_solve(a,j))[0]) for k in x]+(line_solve(a,j))[1]\n",
        "        return A,x\n",
        "  #le cas -1 donc il existe um multitude de solution\n",
        "  print(update(A),[row_to_line(i) for i in x])\n",
        "  #on determine une variable au hazard, on choisit 0 pour reduire les termes\n",
        "  A[y[0]]=\"0\"\n",
        "  return A,[line_substitution(i,y[0],\"0\") for i in x]"
      ],
      "metadata": {
        "id": "mLaEq3NQ1xr3"
      },
      "execution_count": 15,
      "outputs": []
    },
    {
      "cell_type": "code",
      "source": [
        "#une fois les solutions donne on fonction d'autres variables et une variable determine, on substitue chaque variables et equations\n",
        "def update(s):\n",
        "  x = list(s.keys())\n",
        "  y = list(s.values())\n",
        "  if(x==[]):\n",
        "    return s\n",
        "  y[-1]=row_to_line(line_reduction(y[-1]))\n",
        "  for i in range(1,len(x)):\n",
        "    for j in reversed(range(len(x)-i)):\n",
        "      y[j]= line_substitution(line_reduction(y[j]),x[len(x)-i],y[len(x)-i])\n",
        "  for i in range(len(x)):\n",
        "    s[x[i]]=row_to_line(line_reduction(y[i]))\n",
        "  return s\n",
        "#pour avoir les variables\n",
        "def get_bases(x):\n",
        "  y=[]\n",
        "  for i in x:\n",
        "    y=list(set(y)|set((sympify(row_to_line(i))).atoms(Symbol)))\n",
        "  return [str(i) for i in y]\n",
        "def Solver(system):\n",
        "  A={}\n",
        "  while(system!=[]):\n",
        "    #print(A,system)\n",
        "    system=[line_reduction(i) for i in system]\n",
        "    #print(A,system)\n",
        "    matrix_form,variables=system_to_matrix(system)[0],system_to_matrix(system)[1]\n",
        "    #si c un systeme de 0\n",
        "    if(set(variables)==set(['0'])):\n",
        "      return update(A)\n",
        "    #print(matrix_form,variables)\n",
        "    #gaussian elemination\n",
        "    reduced_matrix_form=delete_arrays(gauss_elim_gf2(matrix_form))\n",
        "    #print(reduced_matrix_form)\n",
        "    if(error(reduced_matrix_form,variables)):\n",
        "      return(\"no solution\")\n",
        "    elif(reduced_matrix_form==[]):\n",
        "      return update(A)\n",
        "    else:\n",
        "      reduced_system=[row_to_strings(i,variables) for i in reduced_matrix_form]\n",
        "      #print(reduced_system)\n",
        "      bases=get_bases(reduced_system)\n",
        "      #print(bases)\n",
        "      b=system_solve(reduced_system,bases,A)\n",
        "      #print(b)\n",
        "      A,system=b[0],b[1]\n",
        "  return update(A)"
      ],
      "metadata": {
        "id": "HAqBLTOMqaB7"
      },
      "execution_count": 10,
      "outputs": []
    },
    {
      "cell_type": "code",
      "source": [
        "def transform_or(x):\n",
        "  y=\"(\"+\"1+\"+(x[0]).replace(\"¬\", \"1+\")+\")\"\n",
        "  for i in range(1,len(x)):\n",
        "    y+=\"*\"+\"(\"+\"1+\"+x[i].replace(\"¬\", \"1+\")+\")\"\n",
        "  return y\n",
        "#transform 3sat on systeme d'equation polyno en Z2\n",
        "def to_system(x):\n",
        "  return [transform_or(((remove_spaces(i))[1:-1]).split(\"∨\")) for i in x.split(\"∧\")]"
      ],
      "metadata": {
        "id": "rmveP5puD2Er"
      },
      "execution_count": 11,
      "outputs": []
    },
    {
      "cell_type": "code",
      "source": [
        "s=\"(a OR b OR c) AND (NOT a OR NOT b OR NOT c) AND (a OR NOT b OR NOT c) AND (NOT a OR b OR NOT c) AND (NOT a OR NOT b OR c)\"\n",
        "s=s.replace(\"OR\", \"∨\")\n",
        "s=s.replace(\"NOT\", \"¬\")\n",
        "s=s.replace(\"AND\", \"∧\")\n",
        "s"
      ],
      "metadata": {
        "colab": {
          "base_uri": "https://localhost:8080/",
          "height": 35
        },
        "id": "LqYH2hMZVkoy",
        "outputId": "5f8ea21b-d475-4406-d44e-27850f952dae"
      },
      "execution_count": 12,
      "outputs": [
        {
          "output_type": "execute_result",
          "data": {
            "text/plain": [
              "'(a ∨ b ∨ c) ∧ (¬ a ∨ ¬ b ∨ ¬ c) ∧ (a ∨ ¬ b ∨ ¬ c) ∧ (¬ a ∨ b ∨ ¬ c) ∧ (¬ a ∨ ¬ b ∨ c)'"
            ],
            "application/vnd.google.colaboratory.intrinsic+json": {
              "type": "string"
            }
          },
          "metadata": {},
          "execution_count": 12
        }
      ]
    },
    {
      "cell_type": "code",
      "execution_count": 13,
      "metadata": {
        "id": "pXG6he5DDws1"
      },
      "outputs": [],
      "source": [
        "b=\"(not x5 or x2 or x4) and (x4 or not x6 or x1) and (not x1 or x8 or x3) and (not x8 or not x1 or not x9) and (not x7 or x6 or not x4) and (not x5 or x8 or x1) and (not x8 or not x7 or not x3) and (x4 or not x6 or x3) and (not x3 or x8 or x1) and (x9 or not x3 or x8) and (x2 or x3 or not x8) and (x8 or not x7 or not x1) and (not x1 or x8 or not x9) and (x2 or x4 or x5) and (x2 or x1 or x6)\"\n",
        "\n",
        "def transforers(s):\n",
        "  s=s.replace(\"or\", \"∨\")\n",
        "  s=s.replace(\"not\", \"¬\")\n",
        "  return s.replace(\"and\", \"∧\")\n",
        "b=transforers(b)"
      ]
    },
    {
      "cell_type": "code",
      "source": [
        "x = \"(x ∨ x ∨ y) ∧ (¬x ∨ ¬y ∨ ¬y) ∧ (¬x ∨ y ∨ y)\"\n",
        "Solver(['(1+1+x10)*(1+1+x16)*(1+1+x11)',\n",
        " '(1+x16)*(1+1+x3)*(1+x5)',\n",
        " '(1+x19)*(1+1+x20)*(1+x3)',\n",
        " '(1+1+x23)*(1+1+x6)*(1+x21)',\n",
        " '(1+1+x3)*(1+1+x15)*(1+x23)',\n",
        " '(1+x24)*(1+x19)*(1+x10)',\n",
        " '(1+x21)*(1+1+x10)*(1+1+x20)',\n",
        " '(1+x9)*(1+1+x19)*(1+x11)',\n",
        " '(1+x14)*(1+1+x8)*(1+x10)',\n",
        " '(1+x20)*(1+1+x9)*(1+1+x7)',\n",
        " '(1+1+x21)*(1+x1)*(1+1+x18)',\n",
        " '(1+1+x6)*(1+x11)*(1+x22)',\n",
        " '(1+1+x21)*(1+x18)*(1+x11)',\n",
        " '(1+x8)*(1+1+x4)*(1+1+x24)',\n",
        " '(1+1+x17)*(1+1+x15)*(1+x4)',\n",
        " '(1+1+x16)*(1+x2)*(1+x14)',\n",
        " '(1+1+x11)*(1+1+x9)*(1+x23)',\n",
        " '(1+1+x1)*(1+x20)*(1+x19)',\n",
        " '(1+1+x13)*(1+x20)*(1+1+x18)',\n",
        " '(1+x12)*(1+x24)*(1+1+x18)',\n",
        " '(1+1+x13)*(1+1+x18)*(1+x11)',\n",
        " '(1+x20)*(1+1+x12)*(1+1+x16)',\n",
        " '(1+1+x12)*(1+x22)*(1+x3)',\n",
        " '(1+x22)*(1+x10)*(1+1+x23)',\n",
        " '(1+x20)*(1+1+x16)*(1+x13)',\n",
        " '(1+x17)*(1+1+x8)*(1+x10)',\n",
        " '(1+x18)*(1+1+x19)*(1+x15)',\n",
        " '(1+1+x2)*(1+1+x5)*(1+1+x12)',\n",
        " '(1+x15)*(1+1+x24)*(1+1+x18)',\n",
        " '(1+x7)*(1+x3)*(1+1+x18)',\n",
        " '(1+1+x12)*(1+1+x20)*(1+1+x7)',\n",
        " '(1+1+x23)*(1+1+x16)*(1+x10)',\n",
        " '(1+1+x8)*(1+x7)*(1+1+x17)'])"
      ],
      "metadata": {
        "colab": {
          "base_uri": "https://localhost:8080/"
        },
        "id": "QTHyW4GbUxTg",
        "outputId": "30b5df52-91e9-4bdd-cb66-87ab9a8e0c78"
      },
      "execution_count": 16,
      "outputs": [
        {
          "output_type": "stream",
          "name": "stdout",
          "text": [
            "{} ['x10*x20*x21+x10*x20', 'x10*x19*x24+x10*x19+x10*x24+x19*x24+x24+x19+x10+1', 'x10*x11*x16', 'x11*x13*x18+x13*x18', 'x13*x18*x20+x13*x18', 'x13*x16*x20+x16*x20+x13*x16+x16', 'x10*x16*x23+x16*x23', 'x10*x22*x23+x22*x23+x10*x23+x23', 'x12*x16*x20+x12*x16', 'x15*x18*x24+x18*x24', 'x11*x18*x21+x11*x21+x18*x21+x21', 'x12*x18*x24+x18*x24+x12*x18+x18', 'x15*x18*x19+x15*x19+x18*x19+x19', 'x14*x16*x2+x14*x16+x16*x2+x16', 'x10*x14*x8+x14*x8+x10*x8+x8', 'x1*x18*x21+x18*x21', 'x11*x23*x9+x11*x9', 'x19*x20*x3+x19*x20+x20*x3+x20', 'x11*x19*x9+x11*x19+x19*x9+x19', 'x21*x23*x6+x23*x6', 'x15*x17*x4+x15*x17', 'x12*x20*x7', 'x12*x22*x3+x12*x22+x12*x3+x12', 'x10*x17*x8+x17*x8+x10*x8+x8', 'x11*x22*x6+x22*x6+x11*x6+x6', 'x15*x23*x3+x15*x3', 'x1*x19*x20+x1*x20+x1*x19+x1', 'x20*x7*x9+x7*x9', 'x16*x3*x5+x16*x3+x3*x5+x3', 'x17*x7*x8+x17*x8', 'x24*x4*x8+x24*x4', 'x12*x2*x5', 'x18*x3*x7+x18*x7+x18*x3+x18']\n",
            "{'x14': '0'} ['x10*x20*x21+x10*x20', 'x10*x19*x24+x10*x19+x10*x24+x19*x24+x24+x19+x10+1', 'x10*x11*x16', 'x11*x13*x18+x13*x18', 'x13*x18*x20+x13*x18', 'x13*x16*x20+x16*x20+x13*x16+x16', 'x10*x16*x23+x16*x23', 'x10*x22*x23+x22*x23+x10*x23+x23', 'x12*x16*x20+x12*x16', 'x15*x18*x24+x18*x24', 'x11*x18*x21+x11*x21+x18*x21+x21', 'x12*x18*x24+x18*x24+x12*x18+x18', 'x15*x18*x19+x15*x19+x18*x19+x19', 'x1*x18*x21+x18*x21', 'x11*x23*x9+x11*x9', 'x19*x20*x3+x19*x20+x20*x3+x20', 'x11*x19*x9+x11*x19+x19*x9+x19', 'x21*x23*x6+x23*x6', 'x15*x17*x4+x15*x17', 'x1*x19*x20+x1*x20+x1*x19+x1', 'x12*x20*x7', 'x12*x22*x3+x12*x22+x12*x3+x12', 'x10*x17*x8+x17*x8+x10*x8+x8', 'x11*x22*x6+x22*x6+x11*x6+x6', 'x15*x23*x3+x15*x3', 'x20*x7*x9+x7*x9', 'x16*x3*x5+x16*x3+x3*x5+x3', 'x17*x7*x8+x17*x8', 'x24*x4*x8+x24*x4', 'x12*x2*x5', 'x18*x3*x7+x18*x7+x18*x3+x18', 'x16*x2+x16', 'x10*x8+x8']\n",
            "{'x14': '0', 'x7': '0'} ['x10*x20*x21+x10*x20', 'x10*x19*x24+x10*x19+x10*x24+x19*x24+x24+x19+x10+1', 'x10*x11*x16', 'x11*x13*x18+x13*x18', 'x13*x18*x20+x13*x18', 'x13*x16*x20+x16*x20+x13*x16+x16', 'x10*x16*x23+x16*x23', 'x10*x22*x23+x22*x23+x10*x23+x23', 'x12*x16*x20+x12*x16', 'x15*x18*x24+x18*x24', 'x11*x18*x21+x11*x21+x18*x21+x21', 'x12*x18*x24+x18*x24+x12*x18+x18', 'x15*x18*x19+x15*x19+x18*x19+x19', 'x1*x18*x21+x18*x21', 'x11*x23*x9+x11*x9', 'x19*x20*x3+x19*x20+x20*x3+x20', 'x11*x19*x9+x11*x19+x19*x9+x19', 'x21*x23*x6+x23*x6', 'x15*x17*x4+x15*x17', 'x12*x22*x3+x12*x22+x12*x3+x12', 'x10*x17*x8+x17*x8+x10*x8+x8', 'x11*x22*x6+x22*x6+x11*x6+x6', 'x15*x23*x3+x15*x3', 'x1*x19*x20+x1*x20+x1*x19+x1', 'x16*x3*x5+x16*x3+x3*x5+x3', 'x24*x4*x8+x24*x4', 'x12*x2*x5', 'x16*x2+x16', 'x17*x8', 'x18*x3+x18', 'x10*x8+x8', '0']\n",
            "{'x14': '0', 'x7': '0', 'x12': '0'} ['x10*x20*x21+x10*x20', 'x10*x19*x24+x10*x19+x10*x24+x19*x24+x24+x19+x10+1', 'x10*x11*x16', 'x11*x13*x18+x13*x18', 'x13*x18*x20+x13*x18', 'x13*x16*x20+x16*x20+x13*x16+x16', 'x10*x16*x23+x16*x23', 'x10*x22*x23+x22*x23+x10*x23+x23', 'x15*x18*x24+x18*x24', 'x11*x18*x21+x11*x21+x18*x21+x21', 'x15*x18*x19+x15*x19+x18*x19+x19', 'x1*x18*x21+x18*x21', 'x11*x23*x9+x11*x9', 'x19*x20*x3+x19*x20+x20*x3+x20', 'x11*x19*x9+x11*x19+x19*x9+x19', 'x21*x23*x6+x23*x6', 'x15*x17*x4+x15*x17', 'x1*x19*x20+x1*x20+x1*x19+x1', 'x10*x17*x8+x17*x8+x10*x8+x8', 'x11*x22*x6+x22*x6+x11*x6+x6', 'x15*x23*x3+x15*x3', 'x16*x3*x5+x16*x3+x3*x5+x3', 'x24*x4*x8+x24*x4', 'x18*x24+x18', 'x16*x2+x16', 'x17*x8', 'x10*x8+x8', 'x18*x3+x18', '0']\n",
            "{'x14': '0', 'x7': '0', 'x12': '0', 'x18': '0'} ['x10*x20*x21+x10*x20', 'x10*x19*x24+x10*x19+x10*x24+x19*x24+x19+x24+x10+1', 'x10*x11*x16', 'x13*x16*x20+x16*x20+x13*x16+x16', 'x10*x22*x23+x22*x23+x10*x23+x23', 'x10*x16*x23+x16*x23', 'x21*x23*x6+x23*x6', 'x15*x17*x4+x15*x17', 'x11*x23*x9+x11*x9', 'x10*x17*x8+x10*x8+x17*x8+x8', 'x19*x20*x3+x19*x20+x20*x3+x20', 'x11*x22*x6+x11*x6+x22*x6+x6', 'x15*x23*x3+x15*x3', 'x11*x19*x9+x11*x19+x19*x9+x19', 'x1*x19*x20+x1*x20+x1*x19+x1', 'x16*x3*x5+x16*x3+x3*x5+x3', 'x24*x4*x8+x24*x4', 'x11*x21+x21', 'x15*x19+x19', 'x16*x2+x16', 'x10*x8+x8', 'x17*x8', '0']\n",
            "{'x14': '0', 'x7': '0', 'x12': '0', 'x18': '0', 'x16': '0'} ['x10*x20*x21+x10*x20', 'x10*x19*x24+x10*x19+x10*x24+x19*x24+x19+x24+x10+1', 'x10*x22*x23+x22*x23+x10*x23+x23', 'x21*x23*x6+x23*x6', 'x15*x17*x4+x15*x17', 'x1*x19*x20+x1*x20+x1*x19+x1', 'x11*x23*x9+x11*x9', 'x10*x17*x8+x10*x8+x17*x8+x8', 'x19*x20*x3+x19*x20+x20*x3+x20', 'x11*x22*x6+x11*x6+x22*x6+x6', 'x15*x23*x3+x15*x3', 'x11*x19*x9+x11*x19+x19*x9+x19', 'x24*x4*x8+x24*x4', 'x11*x21+x21', 'x15*x19+x19', 'x10*x8+x8', 'x17*x8', 'x3*x5+x3', '0']\n",
            "{'x14': '0', 'x7': '0', 'x12': '0', 'x18': '0', 'x16': '0', 'x20': '0'} ['x10*x19*x24+x10*x19+x10*x24+x19*x24+x19+x24+x10+1', 'x10*x22*x23+x22*x23+x10*x23+x23', 'x21*x23*x6+x23*x6', 'x15*x17*x4+x15*x17', 'x11*x23*x9+x11*x9', 'x10*x17*x8+x10*x8+x17*x8+x8', 'x11*x22*x6+x11*x6+x22*x6+x6', 'x15*x23*x3+x15*x3', 'x11*x19*x9+x11*x19+x19*x9+x19', 'x24*x4*x8+x24*x4', 'x11*x21+x21', 'x15*x19+x19', 'x10*x8+x8', 'x17*x8', 'x1*x19+x1', 'x3*x5+x3', '0']\n",
            "{'x14': '0', 'x7': '0', 'x12': '0', 'x18': '0', 'x16': '0', 'x20': '0', 'x23': '0'} ['x10*x19*x24+x10*x19+x10*x24+x19*x24+x19+x24+x10+1', 'x15*x17*x4+x15*x17', 'x10*x17*x8+x10*x8+x17*x8+x8', 'x11*x22*x6+x11*x6+x22*x6+x6', 'x11*x19*x9+x11*x19+x19*x9+x19', 'x24*x4*x8+x24*x4', 'x11*x21+x21', 'x15*x19+x19', 'x10*x8+x8', 'x17*x8', 'x1*x19+x1', 'x15*x3', 'x11*x9', 'x3*x5+x3', '0']\n",
            "{'x14': '0', 'x7': '0', 'x12': '0', 'x18': '0', 'x16': '0', 'x20': '0', 'x23': '0', 'x10': '0', 'x8': '0'} ['x15*x17*x4+x15*x17', 'x11*x22*x6+x11*x6+x22*x6+x6', 'x11*x19*x9+x11*x19+x19*x9+x19', 'x11*x21+x21', 'x15*x19+x19', 'x19*x24+x19+x24+1', 'x1*x19+x1', 'x15*x3', 'x24*x4', 'x11*x9', 'x3*x5+x3', '0']\n",
            "{'x14': '0', 'x7': '0', 'x12': '0', 'x18': '0', 'x16': '0', 'x20': '0', 'x23': '0', 'x10': '0', 'x8': '0', 'x9': '0'} ['x15*x17*x4+x15*x17', 'x11*x22*x6+x11*x6+x22*x6+x6', 'x11*x21+x21', 'x15*x19+x19', 'x19*x24+x19+x24+1', 'x11*x19+x19', 'x1*x19+x1', 'x15*x3', 'x24*x4', 'x3*x5+x3', '0']\n",
            "{'x14': '0', 'x7': '0', 'x12': '0', 'x18': '0', 'x16': '0', 'x20': '0', 'x23': '0', 'x10': '0', 'x8': '0', 'x9': '0', 'x22': '0'} ['x15*x17*x4+x15*x17', 'x11*x21+x21', 'x15*x19+x19', 'x19*x24+x19+x24+1', 'x11*x19+x19', 'x11*x6+x6', 'x1*x19+x1', 'x15*x3', 'x24*x4', 'x3*x5+x3', '0']\n",
            "{'x14': '0', 'x7': '0', 'x12': '0', 'x18': '0', 'x16': '0', 'x20': '0', 'x23': '0', 'x10': '0', 'x8': '0', 'x9': '0', 'x22': '0', 'x21': '0'} ['x15*x17*x4+x15*x17', 'x15*x19+x19', 'x19*x24+x19+x24+1', 'x11*x19+x19', 'x11*x6+x6', 'x1*x19+x1', 'x15*x3', 'x24*x4', 'x3*x5+x3', '0']\n",
            "{'x14': '0', 'x7': '0', 'x12': '0', 'x18': '0', 'x16': '0', 'x20': '0', 'x23': '0', 'x10': '0', 'x8': '0', 'x9': '0', 'x22': '0', 'x21': '0', 'x17': '0'} ['x19*x24+x19+x24+1', 'x15*x19+x19', 'x11*x19+x19', 'x11*x6+x6', 'x1*x19+x1', 'x15*x3', 'x24*x4', 'x3*x5+x3', '0']\n",
            "{'x14': '0', 'x7': '0', 'x12': '0', 'x18': '0', 'x16': '0', 'x20': '0', 'x23': '0', 'x10': '0', 'x8': '0', 'x9': '0', 'x22': '0', 'x21': '0', 'x17': '0', 'x6': '0'} ['x19*x24+x19+x24+1', 'x15*x19+x19', 'x11*x19+x19', 'x1*x19+x1', 'x15*x3', 'x24*x4', 'x3*x5+x3', '0']\n"
          ]
        },
        {
          "output_type": "execute_result",
          "data": {
            "text/plain": [
              "{'x14': '0',\n",
              " 'x7': '0',\n",
              " 'x12': '0',\n",
              " 'x18': '0',\n",
              " 'x16': '0',\n",
              " 'x20': '0',\n",
              " 'x23': '0',\n",
              " 'x10': '0',\n",
              " 'x8': '0',\n",
              " 'x9': '0',\n",
              " 'x22': '0',\n",
              " 'x21': '0',\n",
              " 'x17': '0',\n",
              " 'x6': '0',\n",
              " 'x24': '0',\n",
              " 'x19': '1',\n",
              " 'x11': '1',\n",
              " 'x15': '1',\n",
              " 'x3': '0'}"
            ]
          },
          "metadata": {},
          "execution_count": 16
        }
      ]
    },
    {
      "cell_type": "code",
      "source": [
        "Solver(to_system(transforers(b)))"
      ],
      "metadata": {
        "colab": {
          "base_uri": "https://localhost:8080/"
        },
        "id": "j5BRi4mbqRAy",
        "outputId": "f18e55f9-998f-4ac8-c67c-ed834aba3b3c"
      },
      "execution_count": 20,
      "outputs": [
        {
          "output_type": "stream",
          "name": "stdout",
          "text": [
            "{} ['x2*x4*x5+x4*x5+x2*x5+x5', 'x3*x4*x6+x3*x6+x4*x6+x6', 'x1*x7*x8+x1*x7', 'x1*x2*x6+x2*x6+x1*x6+x1*x2+x6+x2+x1+1', 'x1*x8*x9+x1*x9', 'x1*x5*x8+x1*x5+x5*x8+x5', 'x2*x3*x8+x2*x8+x3*x8+x8', 'x1*x4*x6+x4*x6+x1*x6+x6', 'x4*x6*x7+x4*x7', 'x1*x3*x8+x1*x8+x1*x3+x1', 'x3*x8*x9+x3*x8+x3*x9+x3', 'x3*x7*x8', 'x1*x8+x3*x8+x3+x1', 'x1*x9', 'x2*x4+x4+x2+1']\n",
            "{'x2': '0', 'x4': '1'} ['x1*x7*x8+x1*x7', 'x1*x3*x8+x1*x8+x1*x3+x1', 'x3*x8*x9+x3*x8+x3*x9+x3', 'x3*x7*x8', 'x1*x8*x9+x1*x9', 'x1*x5*x8+x5*x8+x1*x5+x5', 'x1*x8+x3*x8+x1+x3', 'x3*x8+x8', 'x1*x9', 'x1*x6+x6+x1+1', 'x6*x7+x7', '0']\n"
          ]
        },
        {
          "output_type": "execute_result",
          "data": {
            "text/plain": [
              "{'x2': '0',\n",
              " 'x4': '1',\n",
              " 'x6': '0',\n",
              " 'x7': '0',\n",
              " 'x1': '1',\n",
              " 'x3': '1',\n",
              " 'x8': '1',\n",
              " 'x9': '0'}"
            ]
          },
          "metadata": {},
          "execution_count": 20
        }
      ]
    }
  ]
}